{
 "cells": [
  {
   "cell_type": "markdown",
   "id": "e00f66e2",
   "metadata": {},
   "source": [
    "# Concatenation"
   ]
  },
  {
   "cell_type": "code",
   "execution_count": 2,
   "id": "5069d7da",
   "metadata": {},
   "outputs": [],
   "source": [
    "import numpy as np\n",
    "import pandas as pd"
   ]
  },
  {
   "cell_type": "code",
   "execution_count": 5,
   "id": "f6edf871",
   "metadata": {},
   "outputs": [],
   "source": [
    "data = pd.read_csv('eng.1.csv')"
   ]
  },
  {
   "cell_type": "code",
   "execution_count": 6,
   "id": "045ae7b1",
   "metadata": {},
   "outputs": [],
   "source": [
    "df = data.sample()"
   ]
  },
  {
   "cell_type": "code",
   "execution_count": 7,
   "id": "dcbf99b4",
   "metadata": {},
   "outputs": [
    {
     "data": {
      "text/html": [
       "<div>\n",
       "<style scoped>\n",
       "    .dataframe tbody tr th:only-of-type {\n",
       "        vertical-align: middle;\n",
       "    }\n",
       "\n",
       "    .dataframe tbody tr th {\n",
       "        vertical-align: top;\n",
       "    }\n",
       "\n",
       "    .dataframe thead th {\n",
       "        text-align: right;\n",
       "    }\n",
       "</style>\n",
       "<table border=\"1\" class=\"dataframe\">\n",
       "  <thead>\n",
       "    <tr style=\"text-align: right;\">\n",
       "      <th></th>\n",
       "      <th>Round</th>\n",
       "      <th>Date</th>\n",
       "      <th>Team 1</th>\n",
       "      <th>FT</th>\n",
       "      <th>Team 2</th>\n",
       "    </tr>\n",
       "  </thead>\n",
       "  <tbody>\n",
       "    <tr>\n",
       "      <th>79</th>\n",
       "      <td>9</td>\n",
       "      <td>Fri Oct 16 1998</td>\n",
       "      <td>Newcastle United FC</td>\n",
       "      <td>2-1</td>\n",
       "      <td>Derby County FC</td>\n",
       "    </tr>\n",
       "  </tbody>\n",
       "</table>\n",
       "</div>"
      ],
      "text/plain": [
       "    Round             Date               Team 1   FT           Team 2\n",
       "79      9  Fri Oct 16 1998  Newcastle United FC  2-1  Derby County FC"
      ]
     },
     "execution_count": 7,
     "metadata": {},
     "output_type": "execute_result"
    }
   ],
   "source": [
    "df"
   ]
  },
  {
   "cell_type": "code",
   "execution_count": 8,
   "id": "2ffd7d0c",
   "metadata": {},
   "outputs": [],
   "source": [
    "df2 = data.sample()"
   ]
  },
  {
   "cell_type": "code",
   "execution_count": 9,
   "id": "9866fd94",
   "metadata": {},
   "outputs": [
    {
     "data": {
      "text/html": [
       "<div>\n",
       "<style scoped>\n",
       "    .dataframe tbody tr th:only-of-type {\n",
       "        vertical-align: middle;\n",
       "    }\n",
       "\n",
       "    .dataframe tbody tr th {\n",
       "        vertical-align: top;\n",
       "    }\n",
       "\n",
       "    .dataframe thead th {\n",
       "        text-align: right;\n",
       "    }\n",
       "</style>\n",
       "<table border=\"1\" class=\"dataframe\">\n",
       "  <thead>\n",
       "    <tr style=\"text-align: right;\">\n",
       "      <th></th>\n",
       "      <th>Round</th>\n",
       "      <th>Date</th>\n",
       "      <th>Team 1</th>\n",
       "      <th>FT</th>\n",
       "      <th>Team 2</th>\n",
       "    </tr>\n",
       "  </thead>\n",
       "  <tbody>\n",
       "    <tr>\n",
       "      <th>159</th>\n",
       "      <td>17</td>\n",
       "      <td>Fri Dec 11 1998</td>\n",
       "      <td>Middlesbrough FC</td>\n",
       "      <td>1-0</td>\n",
       "      <td>West Ham United FC</td>\n",
       "    </tr>\n",
       "  </tbody>\n",
       "</table>\n",
       "</div>"
      ],
      "text/plain": [
       "     Round             Date            Team 1   FT              Team 2\n",
       "159     17  Fri Dec 11 1998  Middlesbrough FC  1-0  West Ham United FC"
      ]
     },
     "execution_count": 9,
     "metadata": {},
     "output_type": "execute_result"
    }
   ],
   "source": [
    "df2"
   ]
  },
  {
   "cell_type": "code",
   "execution_count": 10,
   "id": "ebe20ccf",
   "metadata": {},
   "outputs": [
    {
     "data": {
      "text/html": [
       "<div>\n",
       "<style scoped>\n",
       "    .dataframe tbody tr th:only-of-type {\n",
       "        vertical-align: middle;\n",
       "    }\n",
       "\n",
       "    .dataframe tbody tr th {\n",
       "        vertical-align: top;\n",
       "    }\n",
       "\n",
       "    .dataframe thead th {\n",
       "        text-align: right;\n",
       "    }\n",
       "</style>\n",
       "<table border=\"1\" class=\"dataframe\">\n",
       "  <thead>\n",
       "    <tr style=\"text-align: right;\">\n",
       "      <th></th>\n",
       "      <th>Round</th>\n",
       "      <th>Date</th>\n",
       "      <th>Team 1</th>\n",
       "      <th>FT</th>\n",
       "      <th>Team 2</th>\n",
       "    </tr>\n",
       "  </thead>\n",
       "  <tbody>\n",
       "    <tr>\n",
       "      <th>79</th>\n",
       "      <td>9</td>\n",
       "      <td>Fri Oct 16 1998</td>\n",
       "      <td>Newcastle United FC</td>\n",
       "      <td>2-1</td>\n",
       "      <td>Derby County FC</td>\n",
       "    </tr>\n",
       "  </tbody>\n",
       "</table>\n",
       "</div>"
      ],
      "text/plain": [
       "    Round             Date               Team 1   FT           Team 2\n",
       "79      9  Fri Oct 16 1998  Newcastle United FC  2-1  Derby County FC"
      ]
     },
     "execution_count": 10,
     "metadata": {},
     "output_type": "execute_result"
    }
   ],
   "source": [
    "df"
   ]
  },
  {
   "cell_type": "code",
   "execution_count": 15,
   "id": "53c99650",
   "metadata": {
    "scrolled": true
   },
   "outputs": [
    {
     "data": {
      "text/html": [
       "<div>\n",
       "<style scoped>\n",
       "    .dataframe tbody tr th:only-of-type {\n",
       "        vertical-align: middle;\n",
       "    }\n",
       "\n",
       "    .dataframe tbody tr th {\n",
       "        vertical-align: top;\n",
       "    }\n",
       "\n",
       "    .dataframe thead th {\n",
       "        text-align: right;\n",
       "    }\n",
       "</style>\n",
       "<table border=\"1\" class=\"dataframe\">\n",
       "  <thead>\n",
       "    <tr style=\"text-align: right;\">\n",
       "      <th></th>\n",
       "      <th>Round</th>\n",
       "      <th>Date</th>\n",
       "      <th>Team 1</th>\n",
       "      <th>FT</th>\n",
       "      <th>Team 2</th>\n",
       "    </tr>\n",
       "  </thead>\n",
       "  <tbody>\n",
       "    <tr>\n",
       "      <th>79</th>\n",
       "      <td>9</td>\n",
       "      <td>Fri Oct 16 1998</td>\n",
       "      <td>Newcastle United FC</td>\n",
       "      <td>2-1</td>\n",
       "      <td>Derby County FC</td>\n",
       "    </tr>\n",
       "    <tr>\n",
       "      <th>159</th>\n",
       "      <td>17</td>\n",
       "      <td>Fri Dec 11 1998</td>\n",
       "      <td>Middlesbrough FC</td>\n",
       "      <td>1-0</td>\n",
       "      <td>West Ham United FC</td>\n",
       "    </tr>\n",
       "    <tr>\n",
       "      <th>353</th>\n",
       "      <td>36</td>\n",
       "      <td>Fri Apr 30 1999</td>\n",
       "      <td>West Ham United FC</td>\n",
       "      <td>1-5</td>\n",
       "      <td>Leeds United FC</td>\n",
       "    </tr>\n",
       "  </tbody>\n",
       "</table>\n",
       "</div>"
      ],
      "text/plain": [
       "     Round             Date               Team 1   FT              Team 2\n",
       "79       9  Fri Oct 16 1998  Newcastle United FC  2-1     Derby County FC\n",
       "159     17  Fri Dec 11 1998     Middlesbrough FC  1-0  West Ham United FC\n",
       "353     36  Fri Apr 30 1999   West Ham United FC  1-5     Leeds United FC"
      ]
     },
     "execution_count": 15,
     "metadata": {},
     "output_type": "execute_result"
    }
   ],
   "source": [
    "pd.concat([df,df2,df3])"
   ]
  },
  {
   "cell_type": "code",
   "execution_count": 13,
   "id": "86f55860",
   "metadata": {},
   "outputs": [],
   "source": [
    "df3 = data.sample()"
   ]
  },
  {
   "cell_type": "code",
   "execution_count": 14,
   "id": "2f80bd22",
   "metadata": {
    "scrolled": true
   },
   "outputs": [
    {
     "data": {
      "text/html": [
       "<div>\n",
       "<style scoped>\n",
       "    .dataframe tbody tr th:only-of-type {\n",
       "        vertical-align: middle;\n",
       "    }\n",
       "\n",
       "    .dataframe tbody tr th {\n",
       "        vertical-align: top;\n",
       "    }\n",
       "\n",
       "    .dataframe thead th {\n",
       "        text-align: right;\n",
       "    }\n",
       "</style>\n",
       "<table border=\"1\" class=\"dataframe\">\n",
       "  <thead>\n",
       "    <tr style=\"text-align: right;\">\n",
       "      <th></th>\n",
       "      <th>Round</th>\n",
       "      <th>Date</th>\n",
       "      <th>Team 1</th>\n",
       "      <th>FT</th>\n",
       "      <th>Team 2</th>\n",
       "    </tr>\n",
       "  </thead>\n",
       "  <tbody>\n",
       "    <tr>\n",
       "      <th>353</th>\n",
       "      <td>36</td>\n",
       "      <td>Fri Apr 30 1999</td>\n",
       "      <td>West Ham United FC</td>\n",
       "      <td>1-5</td>\n",
       "      <td>Leeds United FC</td>\n",
       "    </tr>\n",
       "  </tbody>\n",
       "</table>\n",
       "</div>"
      ],
      "text/plain": [
       "     Round             Date              Team 1   FT           Team 2\n",
       "353     36  Fri Apr 30 1999  West Ham United FC  1-5  Leeds United FC"
      ]
     },
     "execution_count": 14,
     "metadata": {},
     "output_type": "execute_result"
    }
   ],
   "source": [
    "df3"
   ]
  },
  {
   "cell_type": "code",
   "execution_count": null,
   "id": "90867165",
   "metadata": {},
   "outputs": [],
   "source": []
  }
 ],
 "metadata": {
  "kernelspec": {
   "display_name": "Python 3 (ipykernel)",
   "language": "python",
   "name": "python3"
  },
  "language_info": {
   "codemirror_mode": {
    "name": "ipython",
    "version": 3
   },
   "file_extension": ".py",
   "mimetype": "text/x-python",
   "name": "python",
   "nbconvert_exporter": "python",
   "pygments_lexer": "ipython3",
   "version": "3.9.12"
  }
 },
 "nbformat": 4,
 "nbformat_minor": 5
}
